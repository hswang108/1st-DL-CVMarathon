{
 "cells": [
  {
   "cell_type": "markdown",
   "metadata": {
    "colab_type": "text",
    "id": "I8CoX4R7VoCd"
   },
   "source": [
    "# 反爬：代理伺服器/IP\n",
    "\n",
    "* 了解「IP 黑/白名單」的反爬蟲機制\n",
    "* 「IP 黑/白名單」反爬蟲的因應策略"
   ]
  },
  {
   "cell_type": "markdown",
   "metadata": {
    "colab_type": "text",
    "id": "n-3DZ_r5VoCe"
   },
   "source": [
    "## 作業目標\n",
    "\n",
    "* 目前程式中的 proxy_ips 是手動輸入的，請根據 https://free-proxy-list.net/ 寫一個可自動化抓取可用 Proxy 的 proxy_ips。\n",
    "\n",
    "\n"
   ]
  },
  {
   "cell_type": "code",
   "execution_count": 2,
   "metadata": {},
   "outputs": [],
   "source": [
    "from bs4 import BeautifulSoup\n",
    "import requests\n",
    "import random"
   ]
  },
  {
   "cell_type": "code",
   "execution_count": 3,
   "metadata": {
    "colab": {},
    "colab_type": "code",
    "id": "iny-9heBVoCf"
   },
   "outputs": [
    {
     "output_type": "stream",
     "name": "stdout",
     "text": [
      "抓取到 300 個IP\n['191.101.39.193:80', '212.129.34.163:3128', '206.189.189.81:3128', '161.202.226.194:80', '103.227.254.59:80', '217.8.51.197:8080', '118.174.232.148:55716', '158.46.127.222:52574', '118.175.93.148:36744', '103.87.170.115:36380']\n"
     ]
    }
   ],
   "source": [
    "\n",
    "\n",
    "proxy_ips = []\n",
    "\n",
    "r = requests.get('https://free-proxy-list.net/')\n",
    "soup = BeautifulSoup(r.text, features='lxml')\n",
    "proxy_blocks = soup.select('#proxylisttable tbody tr')\n",
    "\n",
    "for proxy_block in proxy_blocks:\n",
    "    ip = proxy_block.select_one('td:nth-of-type(1)').text\n",
    "    port = proxy_block.select_one('td:nth-of-type(2)').text\n",
    "    proxy_ips.append(f'{ip}:{port}')\n",
    "                        \n",
    "print(f'抓取到 {len(proxy_ips)} 個IP')\n",
    "print(proxy_ips[:10])"
   ]
  },
  {
   "cell_type": "code",
   "execution_count": 7,
   "metadata": {
    "colab": {},
    "colab_type": "code",
    "id": "75dIsHjiVoCi"
   },
   "outputs": [
    {
     "output_type": "stream",
     "name": "stdout",
     "text": [
      "Use 203.198.94.132:80\nFail\nUse 78.42.42.40:8080\nFail\nUse 213.230.127.143:3128\nFail\nUse 189.14.193.242:53281\nFail\nUse 37.120.146.24:3128\nFail\nUse 5.181.2.48:8085\nFail\nUse 171.96.195.217:80\nFail\nUse 217.19.209.253:8080\nFail\nUse 3.101.101.142:3128\nFail\nUse 191.101.39.193:80\nFail\n"
     ]
    }
   ],
   "source": [
    "for i in range(10):\n",
    "    ip = random.choice(proxy_ips)\n",
    "    print('Use', ip)\n",
    "    try:\n",
    "        resp = requests.get('http://ip.filefab.com/index.php',\n",
    "                        proxies={'http': ip, 'https': ip}, timeout=10)\n",
    "        soup = BeautifulSoup(resp.text, 'html5lib')\n",
    "        print(soup.find('h1', id='ipd').text.strip())\n",
    "    except:\n",
    "        print('Fail')"
   ]
  },
  {
   "cell_type": "code",
   "execution_count": null,
   "metadata": {},
   "outputs": [],
   "source": []
  }
 ],
 "metadata": {
  "colab": {
   "name": "homework.ipynb",
   "provenance": []
  },
  "kernelspec": {
   "display_name": "Python 3",
   "language": "python",
   "name": "python3"
  },
  "language_info": {
   "codemirror_mode": {
    "name": "ipython",
    "version": 3
   },
   "file_extension": ".py",
   "mimetype": "text/x-python",
   "name": "python",
   "nbconvert_exporter": "python",
   "pygments_lexer": "ipython3",
   "version": "3.7.6-final"
  }
 },
 "nbformat": 4,
 "nbformat_minor": 1
}