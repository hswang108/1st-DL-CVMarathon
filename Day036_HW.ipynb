{
 "cells": [
  {
   "cell_type": "markdown",
   "metadata": {},
   "source": [
    "# 加速：非同步爬蟲\n",
    "\n",
    "* 了解非同步爬蟲加速原理與實作"
   ]
  },
  {
   "cell_type": "markdown",
   "metadata": {},
   "source": [
    "## 作業目標\n",
    "\n",
    "* 比較一下非同步爬蟲跟多線程爬蟲的差異是什麼？各自的優缺點為何？"
   ]
  },
  {
   "source": [
    "加速：非同步爬蟲\n",
    "了解非同步爬蟲加速原理與實作\n",
    "作業目標\n",
    "比較一下非同步爬蟲跟多線程爬蟲的差異是什麼？各自的優缺點為何？\n",
    "非同步爬蟲跟多線程爬蟲的差異是什麼？\n",
    "ANS:\n",
    "\n",
    "Multi:　平行處理\n",
    "Async:　可以直接執行，不用等待前一個執行完畢\n",
    "各自的優缺點為何？\n",
    "ANS:\n",
    "\n",
    "Ｍulti 優點:　資源分配及排程不用由程式本身安排\n",
    "Ｍulti 缺點: 在存取獨佔資源時，容易阻塞\n",
    "Async 優點: 在取存獨佔資源時，比較不容易阻塞\n",
    "Async 缺點:　需要程式本身作資源分配及排程"
   ],
   "cell_type": "markdown",
   "metadata": {
    "scrolled": true
   }
  },
  {
   "cell_type": "code",
   "execution_count": null,
   "metadata": {},
   "outputs": [],
   "source": []
  }
 ],
 "metadata": {
  "colab": {
   "name": "homework.ipynb",
   "provenance": []
  },
  "kernelspec": {
   "display_name": "Python 3",
   "language": "python",
   "name": "python3"
  },
  "language_info": {
   "codemirror_mode": {
    "name": "ipython",
    "version": 3
   },
   "file_extension": ".py",
   "mimetype": "text/x-python",
   "name": "python",
   "nbconvert_exporter": "python",
   "pygments_lexer": "ipython3",
   "version": "3.6.5"
  }
 },
 "nbformat": 4,
 "nbformat_minor": 1
}