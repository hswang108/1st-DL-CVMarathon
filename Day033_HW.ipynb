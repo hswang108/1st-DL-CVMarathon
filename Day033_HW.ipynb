{
 "cells": [
  {
   "cell_type": "markdown",
   "metadata": {},
   "source": [
    "# 反爬：登入授權模擬\n",
    "\n",
    "* 了解「登入權限機制」的反爬蟲機制\n",
    "* 「登入權限機制」反爬蟲的因應策略"
   ]
  },
  {
   "cell_type": "markdown",
   "metadata": {},
   "source": [
    "## 作業目標\n",
    "\n",
    "* 找一個需要登入的網站試試看，並說明思考流程\n",
    "（如果不知道要用哪個網站的話，可以試試看 https://github.com/new 網址，未登入時會被導向登入頁）\n",
    "\n"
   ]
  },
  {
   "cell_type": "code",
   "execution_count": 1,
   "metadata": {},
   "outputs": [],
   "source": [
    "import requests\n",
    "from bs4 import BeautifulSoup"
   ]
  },
  {
   "cell_type": "code",
   "execution_count": 2,
   "metadata": {},
   "outputs": [
    {
     "output_type": "stream",
     "name": "stdout",
     "text": [
      "\nSign in to GitHub · GitHubSkip to content\nGitHub no longer supports this web browser.          Learn more about the browsers we support.\n        Sign in to GitHub\n \n    Username or email address\n  \n    Password Forgot password?\n          New to GitHub?\n          Create an account.\n        Terms\nPrivacy\nSecurity\nContact GitHub    You can’t perform that action at this time.\n  \nYou signed in with another tab or window. Reload to refresh your session.\nYou signed out in another tab or window. Reload to refresh your session.\n\n"
     ]
    }
   ],
   "source": [
    "res = requests.get('https://github.com/new')\n",
    "soup = BeautifulSoup(res.text, 'html.parser')\n",
    "# print(soup.text)\n",
    "\n",
    "content = soup.text.replace('\\n\\n', '')\n",
    "print(content)"
   ]
  },
  {
   "cell_type": "code",
   "execution_count": 7,
   "metadata": {},
   "outputs": [
    {
     "output_type": "stream",
     "name": "stdout",
     "text": [
      "\nCreate a New RepositorySkip to content        Search\n              All GitHub\n      \n↵\n      Jump to\n      ↵\nNo suggested jump to results        Search\n              All GitHub\n      \n↵\n      Jump to\n      ↵        Search\n              All GitHub\n      \n↵\n      Jump to\n      ↵        Search\n              All GitHub\n      \n↵\n      Jump to\n      ↵\n         Dashboard\n        Pull requests\n      Issues          Marketplace\n       Explore\n      Settings      hswang108\n        Sign out\n      \n   New repository\n    Import repository\n    New gist\n    New organization\n      New project\n  \n          Sorry, something went wrong.\n              Create a new repository\n \n      A repository contains all project files, including the revision history.        Already have a project repository elsewhere? Import a repository.\nOwner\n    hswang108\n  \n      hswang108\n    \n/\nRepository name\n          You found a secret! hswang108/hswang108\n          is a ✨special ✨ repository that you can use\n          to add a README.md to your GitHub profile. Make sure\n          it’s public and initialize it with a README to\n          get started.\n                Great repository names are short and memorable. Need inspiration? How about\n        psychic-adventure?\n      Description (optional)            Public\n          \n              Anyone on the internet can see this repository. You choose who can commit.\n                      You may not create public repositories by organization policy.\n          \n          Private\n        \n          You choose who can see and commit to this repository.\n                  You may not create private repositories by organization policy.\n                  We are unable to provide access to GitHub private repository services.\nIt appears your account may be based in a U.S.-sanctioned region. As a result, due to U.S. trade controls law restrictions, we are unable to provide private repository services and paid services for your account. GitHub has preserved, however, your access to certain free services for public repositories. \nIf your account has been flagged in error, and you are not located in or resident in a sanctioned region, please file an appeal. Please read about GitHub and Trade Controls for more information.\n                  We are unable to provide access to GitHub private repository services.\nIt appears your account may be based in a U.S.-sanctioned region. As a result, due to U.S. trade controls law restrictions, we are unable to provide private repository services and paid services for your account. GitHub has preserved, however, your access to certain free services for public repositories. \nIf your account has been flagged in error, and you are not located in or resident in a sanctioned region, please file an appeal. Please read about GitHub and Trade Controls for more information.\n                  Your current plan does not support private repositories.\n            \n              Your organization's owners will need to upgrade to Team.\n            \nInitialize this repository with:\nSkip this step if you’re importing an existing repository.\n            Add a README file\n                      This is where you can write a long description for your project.\n            Learn more.            Add .gitignore\n                      Choose which files not to track from a list of templates.\n            Learn more.\n.gitignore template:\nNone.gitignore templateNone\nActionscript\nAda\nAgda\nAndroid\nAppEngine\nAppceleratorTitanium\nArchLinuxPackages\nAutotools\nC\nC++\nCFWheels\nCMake\nCUDA\nCakePHP\nChefCookbook\nClojure\nCodeIgniter\nCommonLisp\nComposer\nConcrete5\nCoq\nCraftCMS\nD\nDM\nDart\nDelphi\nDrupal\nEPiServer\nEagle\nElisp\nElixir\nElm\nErlang\nExpressionEngine\nExtJs\nFancy\nFinale\nForceDotCom\nFortran\nFuelPHP\nGWT\nGitBook\nGo\nGodot\nGradle\nGrails\nHaskell\nIGORPro\nIdris\nJENKINS_HOME\nJava\nJboss\nJekyll\nJoomla\nJulia\nKiCAD\nKohana\nKotlin\nLabVIEW\nLaravel\nLeiningen\nLemonStand\nLilypond\nLithium\nLua\nMagento\nMaven\nMercury\nMetaProgrammingSystem\nNim\nNode\nOCaml\nObjective-C\nOpa\nOracleForms\nPacker\nPerl\nPerl6\nPhalcon\nPlayFramework\nPlone\nPrestashop\nProcessing\nPureScript\nPython\nQooxdoo\nQt\nR\nROS\nRails\nRhodesRhomobile\nRuby\nRust\nSCons\nSass\nScala\nScheme\nScrivener\nSdcc\nSeamGen\nSketchUp\nSmalltalk\nSugarCRM\nSwift\nSymfony\nSymphonyCMS\nTeX\nTerraform\nTextpattern\nTurboGears2\nTypo3\nUmbraco\nUnity\nUnrealEngine\nVVVV\nVisualStudio\nWaf\nWordPress\nXojo\nYeoman\nYii\nZendFramework\nZephir\ngcov\nnanoc\nopencart\nstella\nNothing to show\n              Choose a license\n                          A license tells others what they can and can't do with your code.\n              Learn more.        License:\n      \nNone\nLicense\n      None\n    \n      None\n    \n      Apache License 2.0\n    \n      Apache License 2.0\n    \n      GNU General Public License v3.0\n    \n      GNU General Public License v3.0\n    \n      MIT License\n    \n      MIT License\n    \n      BSD 2-Clause \"Simplified\" License\n    \n      BSD 2-Clause \"Simplified\" License\n    \n      BSD 3-Clause \"New\" or \"Revised\" License\n    \n      BSD 3-Clause \"New\" or \"Revised\" License\n    \n      Boost Software License 1.0\n    \n      Boost Software License 1.0\n    \n      Creative Commons Zero v1.0 Universal\n    \n      Creative Commons Zero v1.0 Universal\n    \n      Eclipse Public License 2.0\n    \n      Eclipse Public License 2.0\n    \n      GNU Affero General Public License v3.0\n    \n      GNU Affero General Public License v3.0\n    \n      GNU General Public License v2.0\n    \n      GNU General Public License v2.0\n    \n      GNU Lesser General Public License v2.1\n    \n      GNU Lesser General Public License v2.1\n    \n      Mozilla Public License 2.0\n    \n      Mozilla Public License 2.0\n    \n      The Unlicense\n    \n      The Unlicense\n    \n              No results found.\n            \n          This will set\n          main          as the default branch.\n          \n            Change the default name in\n            \n                your\n            \nsettings.\n                      Contact the organization admin to change the default name.\n                  Create repository\n              You don’t appear to have permission to create repositories for this organization. Sorry about that.\n      \n© 2021 GitHub, Inc.\nTerms\nPrivacy\nSecurity\nStatus\nDocsContact GitHub\nPricing\nAPI\nTraining\nBlog\nAbout    You can’t perform that action at this time.\n  \nYou signed in with another tab or window. Reload to refresh your session.\nYou signed out in another tab or window. Reload to refresh your session.\n\n"
     ]
    }
   ],
   "source": [
    "cookies = {\n",
    "    '_octo':'GH1.1.425084800.1596266629',\n",
    "    '_ga':'GA1.2.1461352049.1596266536', \n",
    "    '_device_id':'cd35b522c7118bb7d2168e84547fda41',\n",
    "     'tz':'Asia%2FTaipei',\n",
    "     'has_recent_activity':'1', \n",
    "     'user_session':'vE_t3zXS7GFi5qe3Szwro1s1YINOqNHrr6G2tnHTjDm9JbvT', '__Host-user_session_same_site':'vE_t3zXS7GFi5qe3Szwro1s1YINOqNHrr6G2tnHTjDm9JbvT', \n",
    "     'tz':'Asia%2FTaipei', \n",
    "     'logged_in':'yes', \n",
    "     'dotcom_user':'hswang108', '_gh_sess':'%2BD7Ze31mH2yDYwhaCTkeh1hraoHmI1q20h2Kp205FqzoJVY14STs1QIAIje7L0VXHPQx5hRH%2BH8VNmZVpQI20Mo%2FbeNwmX8Ap%2B%2FcuYwwuNqETFN8lQvwBdIe%2F9Hv%2BS1RhuyDdDaEE9Om%2B5MzBpGuGgIihgZVUhZwzp1dyXwJcKgJtOBfhw8lmr8TBrPawzDCGldGterXCM8LX31db%2FAwxdlzJxiLPXZB9ddSIy009YwOgbQyV5Oi5HjuzOGlYbHM09nQHX2cQIXFky6kmyCgI9Xe2n98ut179IoJwjaHO2N0MO4LAseEOjjK%2BqMHCDCsVW8Na%2Bl7dMDMqNPCM1DduDfgKxQrckKHr0lLXoTqQHhkdvHzKEW1orJNb5AWbairIV8sXdjACFJEA9fgZeiXos21O5w0dvBoVhESk2SZDF50T5utuLfmo%2FmEaIJmfgaTjYt96c%2BQa2VsUSo%2B%2B8ds%2B3muTh%2BEFZXPvJ4YUz7R6Tx6cu9q2IrB%2FBZL71dhHkIHi5e4H77Uhsg7MXeIYmFsPGzptEf2dUJUU0hxQpchwejFiAvl4BpwoPjaxpqhKi3gKQCcpXIZxcqxl7kFGpSkHQiOEt87WWlrpP9ueg%3D%3D--yv%2FzyHX3r1GLhJng--fn3MnUxoPhrNcLVuePDZ6g%3D%3D'\n",
    "     }\n",
    "\n",
    "res = requests.get('https://github.com/new', cookies=cookies)\n",
    "soup = BeautifulSoup(res.text, 'html.parser')\n",
    "# print(soup.text)\n",
    "\n",
    "content = soup.text.replace('\\n\\n', '')\n",
    "print(content)"
   ]
  },
  {
   "cell_type": "code",
   "execution_count": null,
   "metadata": {},
   "outputs": [],
   "source": []
  }
 ],
 "metadata": {
  "kernelspec": {
   "display_name": "Python 3",
   "language": "python",
   "name": "python3"
  },
  "language_info": {
   "codemirror_mode": {
    "name": "ipython",
    "version": 3
   },
   "file_extension": ".py",
   "mimetype": "text/x-python",
   "name": "python",
   "nbconvert_exporter": "python",
   "pygments_lexer": "ipython3",
   "version": "3.8.3-final"
  }
 },
 "nbformat": 4,
 "nbformat_minor": 2
}