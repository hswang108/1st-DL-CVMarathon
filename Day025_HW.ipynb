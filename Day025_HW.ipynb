{
 "metadata": {
  "language_info": {
   "codemirror_mode": {
    "name": "ipython",
    "version": 3
   },
   "file_extension": ".py",
   "mimetype": "text/x-python",
   "name": "python",
   "nbconvert_exporter": "python",
   "pygments_lexer": "ipython3",
   "version": "3.8.3-final"
  },
  "orig_nbformat": 2,
  "kernelspec": {
   "name": "python3",
   "display_name": "Python 3",
   "language": "python"
  }
 },
 "nbformat": 4,
 "nbformat_minor": 2,
 "cells": [
  {
   "cell_type": "code",
   "execution_count": 1,
   "metadata": {},
   "outputs": [
    {
     "output_type": "stream",
     "name": "stdout",
     "text": [
      "rroneous.py -> build\\lib.win-amd64-3.8\\twisted\\trial\\test\n",
      "    copying src\\twisted\\trial\\test\\mockcustomsuite.py -> build\\lib.win-amd64-3.8\\twisted\\trial\\test\n",
      "    copying src\\twisted\\trial\\test\\mockcustomsuite2.py -> build\\lib.win-amd64-3.8\\twisted\\trial\\test\n",
      "    copying src\\twisted\\trial\\test\\mockcustomsuite3.py -> build\\lib.win-amd64-3.8\\twisted\\trial\\test\n",
      "    copying src\\twisted\\trial\\test\\mockdoctest.py -> build\\lib.win-amd64-3.8\\twisted\\trial\\test\n",
      "    copying src\\twisted\\trial\\test\\moduleself.py -> build\\lib.win-amd64-3.8\\twisted\\trial\\test\n",
      "    copying src\\twisted\\trial\\test\\moduletest.py -> build\\lib.win-amd64-3.8\\twisted\\trial\\test\n",
      "    copying src\\twisted\\trial\\test\\novars.py -> build\\lib.win-amd64-3.8\\twisted\\trial\\test\n",
      "    copying src\\twisted\\trial\\test\\ordertests.py -> build\\lib.win-amd64-3.8\\twisted\\trial\\test\n",
      "    copying src\\twisted\\trial\\test\\packages.py -> build\\lib.win-amd64-3.8\\twisted\\trial\\test\n",
      "    copying src\\twisted\\trial\\test\\sample.py -> build\\lib.win-amd64-3.8\\twisted\\trial\\test\n",
      "    copying src\\twisted\\trial\\test\\scripttest.py -> build\\lib.win-amd64-3.8\\twisted\\trial\\test\n",
      "    copying src\\twisted\\trial\\test\\skipping.py -> build\\lib.win-amd64-3.8\\twisted\\trial\\test\n",
      "    copying src\\twisted\\trial\\test\\suppression.py -> build\\lib.win-amd64-3.8\\twisted\\trial\\test\n",
      "    copying src\\twisted\\trial\\test\\test_assertions.py -> build\\lib.win-amd64-3.8\\twisted\\trial\\test\n",
      "    copying src\\twisted\\trial\\test\\test_asyncassertions.py -> build\\lib.win-amd64-3.8\\twisted\\trial\\test\n",
      "    copying src\\twisted\\trial\\test\\test_deferred.py -> build\\lib.win-amd64-3.8\\twisted\\trial\\test\n",
      "    copying src\\twisted\\trial\\test\\test_doctest.py -> build\\lib.win-amd64-3.8\\twisted\\trial\\test\n",
      "    copying src\\twisted\\trial\\test\\test_keyboard.py -> build\\lib.win-amd64-3.8\\twisted\\trial\\test\n",
      "    copying src\\twisted\\trial\\test\\test_loader.py -> build\\lib.win-amd64-3.8\\twisted\\trial\\test\n",
      "    copying src\\twisted\\trial\\test\\test_log.py -> build\\lib.win-amd64-3.8\\twisted\\trial\\test\n",
      "    copying src\\twisted\\trial\\test\\test_output.py -> build\\lib.win-amd64-3.8\\twisted\\trial\\test\n",
      "    copying src\\twisted\\trial\\test\\test_plugins.py -> build\\lib.win-amd64-3.8\\twisted\\trial\\test\n",
      "    copying src\\twisted\\trial\\test\\test_pyunitcompat.py -> build\\lib.win-amd64-3.8\\twisted\\trial\\test\n",
      "    copying src\\twisted\\trial\\test\\test_reporter.py -> build\\lib.win-amd64-3.8\\twisted\\trial\\test\n",
      "    copying src\\twisted\\trial\\test\\test_runner.py -> build\\lib.win-amd64-3.8\\twisted\\trial\\test\n",
      "    copying src\\twisted\\trial\\test\\test_script.py -> build\\lib.win-amd64-3.8\\twisted\\trial\\test\n",
      "    copying src\\twisted\\trial\\test\\test_suppression.py -> build\\lib.win-amd64-3.8\\twisted\\trial\\test\n",
      "    copying src\\twisted\\trial\\test\\test_testcase.py -> build\\lib.win-amd64-3.8\\twisted\\trial\\test\n",
      "    copying src\\twisted\\trial\\test\\test_tests.py -> build\\lib.win-amd64-3.8\\twisted\\trial\\test\n",
      "    copying src\\twisted\\trial\\test\\test_util.py -> build\\lib.win-amd64-3.8\\twisted\\trial\\test\n",
      "    copying src\\twisted\\trial\\test\\test_warning.py -> build\\lib.win-amd64-3.8\\twisted\\trial\\test\n",
      "    copying src\\twisted\\trial\\test\\weird.py -> build\\lib.win-amd64-3.8\\twisted\\trial\\test\n",
      "    copying src\\twisted\\trial\\test\\__init__.py -> build\\lib.win-amd64-3.8\\twisted\\trial\\test\n",
      "    creating build\\lib.win-amd64-3.8\\twisted\\trial\\_dist\n",
      "    copying src\\twisted\\trial\\_dist\\distreporter.py -> build\\lib.win-amd64-3.8\\twisted\\trial\\_dist\n",
      "    copying src\\twisted\\trial\\_dist\\disttrial.py -> build\\lib.win-amd64-3.8\\twisted\\trial\\_dist\n",
      "    copying src\\twisted\\trial\\_dist\\managercommands.py -> build\\lib.win-amd64-3.8\\twisted\\trial\\_dist\n",
      "    copying src\\twisted\\trial\\_dist\\options.py -> build\\lib.win-amd64-3.8\\twisted\\trial\\_dist\n",
      "    copying src\\twisted\\trial\\_dist\\worker.py -> build\\lib.win-amd64-3.8\\twisted\\trial\\_dist\n",
      "    copying src\\twisted\\trial\\_dist\\workercommands.py -> build\\lib.win-amd64-3.8\\twisted\\trial\\_dist\n",
      "    copying src\\twisted\\trial\\_dist\\workerreporter.py -> build\\lib.win-amd64-3.8\\twisted\\trial\\_dist\n",
      "    copying src\\twisted\\trial\\_dist\\workertrial.py -> build\\lib.win-amd64-3.8\\twisted\\trial\\_dist\n",
      "    copying src\\twisted\\trial\\_dist\\__init__.py -> build\\lib.win-amd64-3.8\\twisted\\trial\\_dist\n",
      "    creating build\\lib.win-amd64-3.8\\twisted\\trial\\_dist\\test\n",
      "    copying src\\twisted\\trial\\_dist\\test\\test_distreporter.py -> build\\lib.win-amd64-3.8\\twisted\\trial\\_dist\\test\n",
      "    copying src\\twisted\\trial\\_dist\\test\\test_disttrial.py -> build\\lib.win-amd64-3.8\\twisted\\trial\\_dist\\test\n",
      "    copying src\\twisted\\trial\\_dist\\test\\test_options.py -> build\\lib.win-amd64-3.8\\twisted\\trial\\_dist\\test\n",
      "    copying src\\twisted\\trial\\_dist\\test\\test_worker.py -> build\\lib.win-amd64-3.8\\twisted\\trial\\_dist\\test\n",
      "    copying src\\twisted\\trial\\_dist\\test\\test_workerreporter.py -> build\\lib.win-amd64-3.8\\twisted\\trial\\_dist\\test\n",
      "    copying src\\twisted\\trial\\_dist\\test\\test_workertrial.py -> build\\lib.win-amd64-3.8\\twisted\\trial\\_dist\\test\n",
      "    copying src\\twisted\\trial\\_dist\\test\\__init__.py -> build\\lib.win-amd64-3.8\\twisted\\trial\\_dist\\test\n",
      "    creating build\\lib.win-amd64-3.8\\twisted\\web\\test\n",
      "    copying src\\twisted\\web\\test\\injectionhelpers.py -> build\\lib.win-amd64-3.8\\twisted\\web\\test\n",
      "    copying src\\twisted\\web\\test\\requesthelper.py -> build\\lib.win-amd64-3.8\\twisted\\web\\test\n",
      "    copying src\\twisted\\web\\test\\test_agent.py -> build\\lib.win-amd64-3.8\\twisted\\web\\test\n",
      "    copying src\\twisted\\web\\test\\test_cgi.py -> build\\lib.win-amd64-3.8\\twisted\\web\\test\n",
      "    copying src\\twisted\\web\\test\\test_client.py -> build\\lib.win-amd64-3.8\\twisted\\web\\test\n",
      "    copying src\\twisted\\web\\test\\test_distrib.py -> build\\lib.win-amd64-3.8\\twisted\\web\\test\n",
      "    copying src\\twisted\\web\\test\\test_domhelpers.py -> build\\lib.win-amd64-3.8\\twisted\\web\\test\n",
      "    copying src\\twisted\\web\\test\\test_error.py -> build\\lib.win-amd64-3.8\\twisted\\web\\test\n",
      "    copying src\\twisted\\web\\test\\test_flatten.py -> build\\lib.win-amd64-3.8\\twisted\\web\\test\n",
      "    copying src\\twisted\\web\\test\\test_html.py -> build\\lib.win-amd64-3.8\\twisted\\web\\test\n",
      "    copying src\\twisted\\web\\test\\test_http.py -> build\\lib.win-amd64-3.8\\twisted\\web\\test\n",
      "    copying src\\twisted\\web\\test\\test_http2.py -> build\\lib.win-amd64-3.8\\twisted\\web\\test\n",
      "    copying src\\twisted\\web\\test\\test_httpauth.py -> build\\lib.win-amd64-3.8\\twisted\\web\\test\n",
      "    copying src\\twisted\\web\\test\\test_http_headers.py -> build\\lib.win-amd64-3.8\\twisted\\web\\test\n",
      "    copying src\\twisted\\web\\test\\test_newclient.py -> build\\lib.win-amd64-3.8\\twisted\\web\\test\n",
      "    copying src\\twisted\\web\\test\\test_proxy.py -> build\\lib.win-amd64-3.8\\twisted\\web\\test\n",
      "    copying src\\twisted\\web\\test\\test_resource.py -> build\\lib.win-amd64-3.8\\twisted\\web\\test\n",
      "    copying src\\twisted\\web\\test\\test_script.py -> build\\lib.win-amd64-3.8\\twisted\\web\\test\n",
      "    copying src\\twisted\\web\\test\\test_stan.py -> build\\lib.win-amd64-3.8\\twisted\\web\\test\n",
      "    copying src\\twisted\\web\\test\\test_static.py -> build\\lib.win-amd64-3.8\\twisted\\web\\test\n",
      "    copying src\\twisted\\web\\test\\test_tap.py -> build\\lib.win-amd64-3.8\\twisted\\web\\test\n",
      "    copying src\\twisted\\web\\test\\test_template.py -> build\\lib.win-amd64-3.8\\twisted\\web\\test\n",
      "    copying src\\twisted\\web\\test\\test_util.py -> build\\lib.win-amd64-3.8\\twisted\\web\\test\n",
      "    copying src\\twisted\\web\\test\\test_vhost.py -> build\\lib.win-amd64-3.8\\twisted\\web\\test\n",
      "    copying src\\twisted\\web\\test\\test_web.py -> build\\lib.win-amd64-3.8\\twisted\\web\\test\n",
      "    copying src\\twisted\\web\\test\\test_webclient.py -> build\\lib.win-amd64-3.8\\twisted\\web\\test\n",
      "    copying src\\twisted\\web\\test\\test_web__responses.py -> build\\lib.win-amd64-3.8\\twisted\\web\\test\n",
      "    copying src\\twisted\\web\\test\\test_wsgi.py -> build\\lib.win-amd64-3.8\\twisted\\web\\test\n",
      "    copying src\\twisted\\web\\test\\test_xml.py -> build\\lib.win-amd64-3.8\\twisted\\web\\test\n",
      "    copying src\\twisted\\web\\test\\test_xmlrpc.py -> build\\lib.win-amd64-3.8\\twisted\\web\\test\n",
      "    copying src\\twisted\\web\\test\\_util.py -> build\\lib.win-amd64-3.8\\twisted\\web\\test\n",
      "    copying src\\twisted\\web\\test\\__init__.py -> build\\lib.win-amd64-3.8\\twisted\\web\\test\n",
      "    creating build\\lib.win-amd64-3.8\\twisted\\web\\_auth\n",
      "    copying src\\twisted\\web\\_auth\\basic.py -> build\\lib.win-amd64-3.8\\twisted\\web\\_auth\n",
      "    copying src\\twisted\\web\\_auth\\digest.py -> build\\lib.win-amd64-3.8\\twisted\\web\\_auth\n",
      "    copying src\\twisted\\web\\_auth\\wrapper.py -> build\\lib.win-amd64-3.8\\twisted\\web\\_auth\n",
      "    copying src\\twisted\\web\\_auth\\__init__.py -> build\\lib.win-amd64-3.8\\twisted\\web\\_auth\n",
      "    creating build\\lib.win-amd64-3.8\\twisted\\words\\im\n",
      "    copying src\\twisted\\words\\im\\baseaccount.py -> build\\lib.win-amd64-3.8\\twisted\\words\\im\n",
      "    copying src\\twisted\\words\\im\\basechat.py -> build\\lib.win-amd64-3.8\\twisted\\words\\im\n",
      "    copying src\\twisted\\words\\im\\basesupport.py -> build\\lib.win-amd64-3.8\\twisted\\words\\im\n",
      "    copying src\\twisted\\words\\im\\interfaces.py -> build\\lib.win-amd64-3.8\\twisted\\words\\im\n",
      "    copying src\\twisted\\words\\im\\ircsupport.py -> build\\lib.win-amd64-3.8\\twisted\\words\\im\n",
      "    copying src\\twisted\\words\\im\\locals.py -> build\\lib.win-amd64-3.8\\twisted\\words\\im\n",
      "    copying src\\twisted\\words\\im\\pbsupport.py -> build\\lib.win-amd64-3.8\\twisted\\words\\im\n",
      "    copying src\\twisted\\words\\im\\__init__.py -> build\\lib.win-amd64-3.8\\twisted\\words\\im\n",
      "    creating build\\lib.win-amd64-3.8\\twisted\\words\\protocols\n",
      "    copying src\\twisted\\words\\protocols\\irc.py -> build\\lib.win-amd64-3.8\\twisted\\words\\protocols\n",
      "    copying src\\twisted\\words\\protocols\\__init__.py -> build\\lib.win-amd64-3.8\\twisted\\words\\protocols\n",
      "    creating build\\lib.win-amd64-3.8\\twisted\\words\\test\n",
      "    copying src\\twisted\\words\\test\\test_basechat.py -> build\\lib.win-amd64-3.8\\twisted\\words\\test\n",
      "    copying src\\twisted\\words\\test\\test_basesupport.py -> build\\lib.win-amd64-3.8\\twisted\\words\\test\n",
      "    copying src\\twisted\\words\\test\\test_domish.py -> build\\lib.win-amd64-3.8\\twisted\\words\\test\n",
      "    copying src\\twisted\\words\\test\\test_irc.py -> build\\lib.win-amd64-3.8\\twisted\\words\\test\n",
      "    copying src\\twisted\\words\\test\\test_ircsupport.py -> build\\lib.win-amd64-3.8\\twisted\\words\\test\n",
      "    copying src\\twisted\\words\\test\\test_irc_service.py -> build\\lib.win-amd64-3.8\\twisted\\words\\test\n",
      "    copying src\\twisted\\words\\test\\test_jabberclient.py -> build\\lib.win-amd64-3.8\\twisted\\words\\test\n",
      "    copying src\\twisted\\words\\test\\test_jabbercomponent.py -> build\\lib.win-amd64-3.8\\twisted\\words\\test\n",
      "    copying src\\twisted\\words\\test\\test_jabbererror.py -> build\\lib.win-amd64-3.8\\twisted\\words\\test\n",
      "    copying src\\twisted\\words\\test\\test_jabberjid.py -> build\\lib.win-amd64-3.8\\twisted\\words\\test\n",
      "    copying src\\twisted\\words\\test\\test_jabberjstrports.py -> build\\lib.win-amd64-3.8\\twisted\\words\\test\n",
      "    copying src\\twisted\\words\\test\\test_jabbersasl.py -> build\\lib.win-amd64-3.8\\twisted\\words\\test\n",
      "    copying src\\twisted\\words\\test\\test_jabbersaslmechanisms.py -> build\\lib.win-amd64-3.8\\twisted\\words\\test\n",
      "    copying src\\twisted\\words\\test\\test_jabberxmlstream.py -> build\\lib.win-amd64-3.8\\twisted\\words\\test\n",
      "    copying src\\twisted\\words\\test\\test_jabberxmppstringprep.py -> build\\lib.win-amd64-3.8\\twisted\\words\\test\n",
      "    copying src\\twisted\\words\\test\\test_service.py -> build\\lib.win-amd64-3.8\\twisted\\words\\test\n",
      "    copying src\\twisted\\words\\test\\test_tap.py -> build\\lib.win-amd64-3.8\\twisted\\words\\test\n",
      "    copying src\\twisted\\words\\test\\test_xishutil.py -> build\\lib.win-amd64-3.8\\twisted\\words\\test\n",
      "    copying src\\twisted\\words\\test\\test_xmlstream.py -> build\\lib.win-amd64-3.8\\twisted\\words\\test\n",
      "    copying src\\twisted\\words\\test\\test_xmpproutertap.py -> build\\lib.win-amd64-3.8\\twisted\\words\\test\n",
      "    copying src\\twisted\\words\\test\\test_xpath.py -> build\\lib.win-amd64-3.8\\twisted\\words\\test\n",
      "    copying src\\twisted\\words\\test\\__init__.py -> build\\lib.win-amd64-3.8\\twisted\\words\\test\n",
      "    creating build\\lib.win-amd64-3.8\\twisted\\words\\xish\n",
      "    copying src\\twisted\\words\\xish\\domish.py -> build\\lib.win-amd64-3.8\\twisted\\words\\xish\n",
      "    copying src\\twisted\\words\\xish\\utility.py -> build\\lib.win-amd64-3.8\\twisted\\words\\xish\n",
      "    copying src\\twisted\\words\\xish\\xmlstream.py -> build\\lib.win-amd64-3.8\\twisted\\words\\xish\n",
      "    copying src\\twisted\\words\\xish\\xpath.py -> build\\lib.win-amd64-3.8\\twisted\\words\\xish\n",
      "    copying src\\twisted\\words\\xish\\xpathparser.py -> build\\lib.win-amd64-3.8\\twisted\\words\\xish\n",
      "    copying src\\twisted\\words\\xish\\__init__.py -> build\\lib.win-amd64-3.8\\twisted\\words\\xish\n",
      "    creating build\\lib.win-amd64-3.8\\twisted\\words\\protocols\\jabber\n",
      "    copying src\\twisted\\words\\protocols\\jabber\\client.py -> build\\lib.win-amd64-3.8\\twisted\\words\\protocols\\jabber\n",
      "    copying src\\twisted\\words\\protocols\\jabber\\component.py -> build\\lib.win-amd64-3.8\\twisted\\words\\protocols\\jabber\n",
      "    copying src\\twisted\\words\\protocols\\jabber\\error.py -> build\\lib.win-amd64-3.8\\twisted\\words\\protocols\\jabber\n",
      "    copying src\\twisted\\words\\protocols\\jabber\\ijabber.py -> build\\lib.win-amd64-3.8\\twisted\\words\\protocols\\jabber\n",
      "    copying src\\twisted\\words\\protocols\\jabber\\jid.py -> build\\lib.win-amd64-3.8\\twisted\\words\\protocols\\jabber\n",
      "    copying src\\twisted\\words\\protocols\\jabber\\jstrports.py -> build\\lib.win-amd64-3.8\\twisted\\words\\protocols\\jabber\n",
      "    copying src\\twisted\\words\\protocols\\jabber\\sasl.py -> build\\lib.win-amd64-3.8\\twisted\\words\\protocols\\jabber\n",
      "    copying src\\twisted\\words\\protocols\\jabber\\sasl_mechanisms.py -> build\\lib.win-amd64-3.8\\twisted\\words\\protocols\\jabber\n",
      "    copying src\\twisted\\words\\protocols\\jabber\\xmlstream.py -> build\\lib.win-amd64-3.8\\twisted\\words\\protocols\\jabber\n",
      "    copying src\\twisted\\words\\protocols\\jabber\\xmpp_stringprep.py -> build\\lib.win-amd64-3.8\\twisted\\words\\protocols\\jabber\n",
      "    copying src\\twisted\\words\\protocols\\jabber\\__init__.py -> build\\lib.win-amd64-3.8\\twisted\\words\\protocols\\jabber\n",
      "    creating build\\lib.win-amd64-3.8\\twisted\\_threads\\test\n",
      "    copying src\\twisted\\_threads\\test\\test_convenience.py -> build\\lib.win-amd64-3.8\\twisted\\_threads\\test\n",
      "    copying src\\twisted\\_threads\\test\\test_memory.py -> build\\lib.win-amd64-3.8\\twisted\\_threads\\test\n",
      "    copying src\\twisted\\_threads\\test\\test_team.py -> build\\lib.win-amd64-3.8\\twisted\\_threads\\test\n",
      "    copying src\\twisted\\_threads\\test\\test_threadworker.py -> build\\lib.win-amd64-3.8\\twisted\\_threads\\test\n",
      "    copying src\\twisted\\_threads\\test\\__init__.py -> build\\lib.win-amd64-3.8\\twisted\\_threads\\test\n",
      "    running egg_info\n",
      "    writing src\\Twisted.egg-info\\PKG-INFO\n",
      "    writing dependency_links to src\\Twisted.egg-info\\dependency_links.txt\n",
      "    writing entry points to src\\Twisted.egg-info\\entry_points.txt\n",
      "    writing requirements to src\\Twisted.egg-info\\requires.txt\n",
      "    writing top-level names to src\\Twisted.egg-info\\top_level.txt\n",
      "    reading manifest file 'src\\Twisted.egg-info\\SOURCES.txt'\n",
      "    reading manifest template 'MANIFEST.in'\n",
      "    warning: no previously-included files matching '*.misc' found under directory 'src\\twisted'\n",
      "    warning: no previously-included files matching '*.bugfix' found under directory 'src\\twisted'\n",
      "    warning: no previously-included files matching '*.doc' found under directory 'src\\twisted'\n",
      "    warning: no previously-included files matching '*.feature' found under directory 'src\\twisted'\n",
      "    warning: no previously-included files matching '*.removal' found under directory 'src\\twisted'\n",
      "    warning: no previously-included files matching 'NEWS' found under directory 'src\\twisted'\n",
      "    warning: no previously-included files matching 'README' found under directory 'src\\twisted'\n",
      "    warning: no previously-included files matching 'newsfragments' found under directory 'src\\twisted'\n",
      "    warning: no previously-included files found matching 'src\\twisted\\topfiles\\CREDITS'\n",
      "    warning: no previously-included files found matching 'src\\twisted\\topfiles\\ChangeLog.Old'\n",
      "    warning: no previously-included files found matching 'pyproject.toml'\n",
      "    warning: no previously-included files found matching 'codecov.yml'\n",
      "    warning: no previously-included files found matching 'appveyor.yml'\n",
      "    warning: no previously-included files found matching '.coveralls.yml'\n",
      "    warning: no previously-included files found matching '.circleci'\n",
      "    warning: no previously-included files matching '*' found under directory '.circleci'\n",
      "    no previously-included directories found matching 'bin'\n",
      "    no previously-included directories found matching 'admin'\n",
      "    no previously-included directories found matching '.travis'\n",
      "    no previously-included directories found matching '.github'\n",
      "    warning: no previously-included files found matching 'docs\\historic\\2003'\n",
      "    warning: no previously-included files matching '*' found under directory 'docs\\historic\\2003'\n",
      "    writing manifest file 'src\\Twisted.egg-info\\SOURCES.txt'\n",
      "    copying src\\twisted\\python\\twisted-completion.zsh -> build\\lib.win-amd64-3.8\\twisted\\python\n",
      "    creating build\\lib.win-amd64-3.8\\twisted\\python\\_pydoctortemplates\n",
      "    copying src\\twisted\\python\\_pydoctortemplates\\common.html -> build\\lib.win-amd64-3.8\\twisted\\python\\_pydoctortemplates\n",
      "    copying src\\twisted\\python\\_pydoctortemplates\\index.html -> build\\lib.win-amd64-3.8\\twisted\\python\\_pydoctortemplates\n",
      "    copying src\\twisted\\python\\_pydoctortemplates\\summary.html -> build\\lib.win-amd64-3.8\\twisted\\python\\_pydoctortemplates\n",
      "    copying src\\twisted\\test\\cert.pem.no_trailing_newline -> build\\lib.win-amd64-3.8\\twisted\\test\n",
      "    copying src\\twisted\\test\\key.pem.no_trailing_newline -> build\\lib.win-amd64-3.8\\twisted\\test\n",
      "    copying src\\twisted\\test\\server.pem -> build\\lib.win-amd64-3.8\\twisted\\test\n",
      "    copying src\\twisted\\test\\test_defer.py.3only -> build\\lib.win-amd64-3.8\\twisted\\test\n",
      "    copying src\\twisted\\internet\\iocpreactor\\notes.txt -> build\\lib.win-amd64-3.8\\twisted\\internet\\iocpreactor\n",
      "    copying src\\twisted\\internet\\test\\_awaittests.py.3only -> build\\lib.win-amd64-3.8\\twisted\\internet\\test\n",
      "    copying src\\twisted\\internet\\test\\_yieldfromtests.py.3only -> build\\lib.win-amd64-3.8\\twisted\\internet\\test\n",
      "    creating build\\lib.win-amd64-3.8\\twisted\\internet\\test\\fake_CAs\n",
      "    copying src\\twisted\\internet\\test\\fake_CAs\\chain.pem -> build\\lib.win-amd64-3.8\\twisted\\internet\\test\\fake_CAs\n",
      "    copying src\\twisted\\internet\\test\\fake_CAs\\not-a-certificate -> build\\lib.win-amd64-3.8\\twisted\\internet\\test\\fake_CAs\n",
      "    copying src\\twisted\\internet\\test\\fake_CAs\\thing1.pem -> build\\lib.win-amd64-3.8\\twisted\\internet\\test\\fake_CAs\n",
      "    copying src\\twisted\\internet\\test\\fake_CAs\\thing2-duplicate.pem -> build\\lib.win-amd64-3.8\\twisted\\internet\\test\\fake_CAs\n",
      "    copying src\\twisted\\internet\\test\\fake_CAs\\thing2.pem -> build\\lib.win-amd64-3.8\\twisted\\internet\\test\\fake_CAs\n",
      "    copying src\\twisted\\mail\\test\\rfc822.message -> build\\lib.win-amd64-3.8\\twisted\\mail\\test\n",
      "    copying src\\twisted\\python\\test\\_deprecatetests.py.3only -> build\\lib.win-amd64-3.8\\twisted\\python\\test\n",
      "    copying src\\twisted\\trial\\test\\_assertiontests.py.3only -> build\\lib.win-amd64-3.8\\twisted\\trial\\test\n",
      "    copying src\\twisted\\words\\im\\instancemessenger.glade -> build\\lib.win-amd64-3.8\\twisted\\words\\im\n",
      "    copying src\\twisted\\words\\xish\\xpathparser.g -> build\\lib.win-amd64-3.8\\twisted\\words\\xish\n",
      "    running build_ext\n",
      "    building 'twisted.test.raiser' extension\n",
      "    error: Microsoft Visual C++ 14.0 is required. Get it with \"Build Tools for Visual Studio\": https://visualstudio.microsoft.com/downloads/\n",
      "    ----------------------------------------\n",
      "ERROR: Command errored out with exit status 1: 'C:\\Users\\weix3310\\anaconda3\\python.exe' -u -c 'import sys, setuptools, tokenize; sys.argv[0] = '\"'\"'C:\\\\Users\\\\weix3310\\\\AppData\\\\Local\\\\Temp\\\\pip-install-rh4ef7j1\\\\Twisted\\\\setup.py'\"'\"'; __file__='\"'\"'C:\\\\Users\\\\weix3310\\\\AppData\\\\Local\\\\Temp\\\\pip-install-rh4ef7j1\\\\Twisted\\\\setup.py'\"'\"';f=getattr(tokenize, '\"'\"'open'\"'\"', open)(__file__);code=f.read().replace('\"'\"'\\r\\n'\"'\"', '\"'\"'\\n'\"'\"');f.close();exec(compile(code, __file__, '\"'\"'exec'\"'\"'))' install --record 'C:\\Users\\weix3310\\AppData\\Local\\Temp\\pip-record-e0smvrqe\\install-record.txt' --single-version-externally-managed --compile --install-headers 'C:\\Users\\weix3310\\anaconda3\\Include\\Twisted' Check the logs for full command output.\n"
     ]
    }
   ],
   "source": [
    "!pip3 install scrapy "
   ]
  },
  {
   "cell_type": "code",
   "execution_count": 10,
   "metadata": {},
   "outputs": [
    {
     "output_type": "execute_result",
     "data": {
      "text/plain": [
       "'f:\\\\Python 網路爬蟲實戰研習馬拉松\\\\Day025'"
      ]
     },
     "metadata": {},
     "execution_count": 10
    }
   ],
   "source": [
    "import os\n",
    "os.getcwd()"
   ]
  },
  {
   "cell_type": "code",
   "execution_count": 16,
   "metadata": {},
   "outputs": [
    {
     "output_type": "stream",
     "name": "stderr",
     "text": [
      "'scrapy' ���O�����Υ~���R�O�B�i���檺�{���Χ妸�ɡC\n"
     ]
    }
   ],
   "source": [
    "! scrapy startproject project_Day025 /Python 網路爬蟲實戰研習馬拉松/Day025"
   ]
  },
  {
   "cell_type": "code",
   "execution_count": 17,
   "metadata": {},
   "outputs": [
    {
     "output_type": "stream",
     "name": "stderr",
     "text": [
      "�t�Χ䤣����w�����|�C\n"
     ]
    }
   ],
   "source": [
    "! cd /Python 網路爬蟲實戰研習馬拉松/Day025/project_Day025"
   ]
  },
  {
   "cell_type": "code",
   "execution_count": 18,
   "metadata": {},
   "outputs": [
    {
     "output_type": "stream",
     "name": "stderr",
     "text": [
      "'scrapy' ���O�����Υ~���R�O�B�i���檺�{���Χ妸�ɡC\n"
     ]
    }
   ],
   "source": [
    "! scrapy genspider ettoday www.ettoday.net"
   ]
  },
  {
   "cell_type": "code",
   "execution_count": null,
   "metadata": {},
   "outputs": [],
   "source": []
  }
 ]
}