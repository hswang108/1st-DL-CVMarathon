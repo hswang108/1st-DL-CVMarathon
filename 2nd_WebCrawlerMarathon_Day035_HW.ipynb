{
 "cells": [
  {
   "cell_type": "markdown",
   "metadata": {},
   "source": [
    "# 加速：多線程爬蟲\n",
    "\n",
    "\n",
    "\n",
    "* 了解知乎 API 使用方式與回傳內容\n",
    "* 撰寫程式存取 API 且添加標頭"
   ]
  },
  {
   "cell_type": "markdown",
   "metadata": {},
   "source": [
    "## 作業目標\n",
    "\n",
    "* 找一個之前實作過的爬蟲改用多線程改寫，比較前後時間的差異。\n",
    "\n",
    "\n",
    "\n"
   ]
  },
  {
   "cell_type": "code",
   "execution_count": 1,
   "metadata": {},
   "outputs": [],
   "source": [
    "import time\n",
    "import requests\n",
    "from bs4 import BeautifulSoup\n",
    "import _thread\n",
    "\n",
    "def craw(url,board):\n",
    "    r = requests.get(url)\n",
    "    soup = BeautifulSoup(r.text, \"html5lib\")\n",
    "\n",
    "    for d in soup.find_all(class_=\"title\"):\n",
    "        try:\n",
    "            soup2 = BeautifulSoup(requests.get('https://www.ptt.cc'+d.find('a')['href']).text, \"html5lib\")\n",
    "            info = soup2.find(class_='bbs-screen bbs-content').find_all(class_='article-metaline')\n",
    "            for i, d2 in enumerate(info):\n",
    "                if i == 1:\n",
    "                    print(board, d2.find(class_='article-meta-tag').text,': ',d2.find (class_='article-meta-value').text)\n",
    "        except:\n",
    "            continue"
   ]
  },
  {
   "cell_type": "code",
   "execution_count": 2,
   "metadata": {},
   "outputs": [
    {
     "output_type": "stream",
     "name": "stdout",
     "text": [
      "Stock 標題 :  [心得] 真的有所謂的星期五效應嗎?\n",
      "Stock 標題 :  Re: [請益] 所以gg法說會不如預期嗎？\n",
      "Stock 標題 :  Re: [標的] 台玻 1802\n",
      "Stock 標題 :  Re: [標的] 零壹  資安一定多\n",
      "Stock 標題 :  [請益] 佳世達 2352\n",
      "Stock 標題 :  [心得] 世芯韭菜解套心得\n",
      "Stock 標題 :  [標的] 矽格 底部翻轉多\n",
      "Stock 標題 :  Re: [標的] 2376 技嘉  超級多\n",
      "Stock 標題 :  [新聞] 政院：三面向強化台灣半導體競爭優勢 目\n",
      "Stock 標題 :  Re: [新聞] 世芯-KY連5跌停 儲祥生：明天有機會打開\n",
      "Stock 標題 :  Fw: [情報] 疫情後的兒童節…\n",
      "Stock 標題 :  [公告] 板規修正案公投 (累進條例&文章分類)\n",
      "Stock 標題 :  [公告] 2021第二季股票板板規改革方針\n",
      "Stock 標題 :  [閒聊] 2021/04/16 盤中閒聊\n",
      "home-sale 標題 :  [賣/新竹/竹北]專任高鐵鴻觀十力高樓四改三房 \n",
      "home-sale 標題 :  [公告] 檢舉申訴申請管理辦法\n",
      "home-sale 標題 :  [公告] home-sale 板規\n",
      "home-sale 標題 :  [公告] 180701置底檢舉區\n",
      "home-sale 標題 :  [公告] 板務實行標準 (2018/07/25)\n",
      "home-sale 標題 :  [公告] 2020 過渡時期暫行律\n",
      "Salary 標題 :  Re: [問題] 提離職後公司要幫我大幅調薪（更）\n",
      "Salary 標題 :  [新聞] 新北捷運公司徵才29人 薪資35K起跳\n",
      "Salary 標題 :  [閒聊] 外勤維修工程師如何？\n",
      "Salary 標題 :  [公告] 關於板上免費服務與活動\n",
      "Soft_Job 標題 :  [請益] 中信個金Java工程師\n",
      "Soft_Job 標題 :  [請益] 甲方跳乙方請益\n",
      "Soft_Job 標題 :  Re: [心得]  加入新創如何避免踩雷\n",
      "Soft_Job 標題 :  [請益] 中磊/和泰offer請益\n",
      "Soft_Job 標題 :  [請益] 工作選擇（性質跟薪資）\n",
      "Soft_Job 標題 :  [問卷] 求職新創問卷調查，回饋鄉免費職涯服務!\n",
      "Soft_Job 標題 :  [公告] 2016年1月1日 新板規上路! 新年快樂\n",
      "Soft_Job 標題 :  [公告] 徵才不符板規或徵才自刪公司\n",
      "Soft_Job 標題 :  [情報] 訓練課程與付費APP與網站分享\n",
      "Soft_Job 標題 :  社群活動與免費APP與網站分享\n",
      "job 標題 :  [台北] 陳光華中醫診所誠徵正職助理\n",
      "job 標題 :  [台北] 急診醫學會徵計畫助理\n",
      "job 標題 :  [公告] 檢舉專區\n",
      "job 標題 :  [公告]\n",
      "job 標題 :  Re: [問題] 惡質資方水桶提議\n",
      "job 標題 :  [公告] 關於文章內容 或推/噓文內容 為\"酸\"言\n",
      "job 標題 :  [公告] 徵人文章 要求貼照片 一律水桶七天\n",
      "48.18001461029053\n"
     ]
    }
   ],
   "source": [
    "# 非多線程\n",
    "boards = ['Stock', 'home-sale','Salary','Soft_Job','job']\n",
    "\n",
    "startTime = time.time()\n",
    "\n",
    "for board in boards:\n",
    "    url = 'https://www.ptt.cc/bbs/{}/index.html'.format(board)\n",
    "    craw(url,board)\n",
    "\n",
    "finishTime = time.time()\n",
    "print(finishTime - startTime) # 正常情況的爬蟲所需時間"
   ]
  },
  {
   "cell_type": "code",
   "execution_count": 3,
   "metadata": {},
   "outputs": [
    {
     "output_type": "stream",
     "name": "stdout",
     "text": [
      "0.0010323524475097656\n",
      "job 標題 :  home-sale 標題 :  [賣/新竹/竹北]專任高鐵鴻觀十力高樓四改三房 \n",
      "Salary 標題 :  Re: [問題] 提離職後公司要幫我大幅調薪（更）\n",
      "[台北] 陳光華中醫診所誠徵正職助理\n",
      "Stock 標題 :  [心得] 真的有所謂的星期五效應嗎?\n",
      "Soft_Job 標題 :  [請益] 中信個金Java工程師\n",
      "home-sale 標題 :  [公告] 檢舉申訴申請管理辦法\n",
      "job 標題 :  [台北] 急診醫學會徵計畫助理\n",
      "Stock 標題 :  Re: [請益] 所以gg法說會不如預期嗎？\n",
      "Salary 標題 :  [新聞] 新北捷運公司徵才29人 薪資35K起跳\n",
      "Soft_Job 標題 :  [請益] 甲方跳乙方請益\n",
      "home-sale 標題 :  [公告] home-sale 板規\n",
      "job 標題 :  [公告] 檢舉專區\n",
      "Salary 標題 :  [閒聊] 外勤維修工程師如何？\n",
      "Stock 標題 :  Re: [標的] 台玻 1802\n",
      "Soft_Job 標題 :  Re: [心得]  加入新創如何避免踩雷\n",
      "job 標題 :  [公告]\n",
      "Salary 標題 :  [公告] 關於板上免費服務與活動\n",
      "Soft_Job 標題 :  [請益] 中磊/和泰offer請益\n",
      "Stock 標題 :  Re: [標的] 零壹  資安一定多\n",
      "home-sale 標題 :  [公告] 180701置底檢舉區\n",
      "job 標題 :  Re: [問題] 惡質資方水桶提議\n",
      "Soft_Job 標題 :  [請益] 工作選擇（性質跟薪資）\n",
      "Stock 標題 :  [請益] 佳世達 2352\n",
      "home-sale 標題 :  [公告] 板務實行標準 (2018/07/25)\n",
      "job 標題 :  [公告] 關於文章內容 或推/噓文內容 為\"酸\"言\n",
      "Soft_Job 標題 :  [問卷] 求職新創問卷調查，回饋鄉免費職涯服務!\n",
      "home-saleStock 標題 :  [公告] 2020 過渡時期暫行律\n",
      " 標題 :  [心得] 世芯韭菜解套心得\n",
      "job 標題 :  [公告] 徵人文章 要求貼照片 一律水桶七天\n",
      "Soft_Job 標題 :  [公告] 2016年1月1日 新板規上路! 新年快樂\n",
      "Stock 標題 :  [標的] 矽格 底部翻轉多\n",
      "Soft_Job 標題 :  [公告] 徵才不符板規或徵才自刪公司\n",
      "Stock 標題 :  Re: [標的] 2376 技嘉  超級多\n",
      "Soft_Job 標題 :  [情報] 訓練課程與付費APP與網站分享\n",
      "Stock 標題 :  [新聞] 政院：三面向強化台灣半導體競爭優勢 目\n",
      "Stock 標題 :  Re: [新聞] 世芯-KY連5跌停 儲祥生：明天有機會打開\n",
      "Soft_Job 標題 :  社群活動與免費APP與網站分享\n",
      "Stock 標題 :  Fw: [情報] 疫情後的兒童節…\n",
      "Stock 標題 :  [公告] 板規修正案公投 (累進條例&文章分類)\n"
     ]
    }
   ],
   "source": [
    "# 多線程\n",
    "startTime = time.time()\n",
    "\n",
    "for board in boards:\n",
    "    url = 'https://www.ptt.cc/bbs/{}/index.html'.format(board)\n",
    "    _thread.start_new_thread(craw , (url,board, ))\n",
    "\n",
    "finishTime = time.time()\n",
    "print(finishTime - startTime) # 正常情況的爬蟲所需時間"
   ]
  },
  {
   "cell_type": "code",
   "execution_count": null,
   "metadata": {},
   "outputs": [],
   "source": []
  }
 ],
 "metadata": {
  "colab": {
   "name": "homework.ipynb",
   "provenance": []
  },
  "kernelspec": {
   "name": "python365jvsc74a57bd0e73f067f1c59be12cfda938665c6a960a5d3ec55ce3a05feea7c329cb1f7e9af",
   "display_name": "Python 3.6.5 64-bit"
  },
  "language_info": {
   "codemirror_mode": {
    "name": "ipython",
    "version": 3
   },
   "file_extension": ".py",
   "mimetype": "text/x-python",
   "name": "python",
   "nbconvert_exporter": "python",
   "pygments_lexer": "ipython3",
   "version": "3.6.5"
  }
 },
 "nbformat": 4,
 "nbformat_minor": 1
}