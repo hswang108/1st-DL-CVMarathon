{
 "cells": [
  {
   "cell_type": "markdown",
   "metadata": {},
   "source": [
    "# Python 下載XML檔案與解析\n",
    "\n",
    "\n",
    "* 了解 xml 檔案格式與內容\n",
    "* 能夠利用套件存取 xml 格式的檔案\n"
   ]
  },
  {
   "cell_type": "markdown",
   "metadata": {},
   "source": [
    "## 作業目標\n",
    "\n",
    "* 比較一下範例檔案中的「File I/O」與「xmltodict」讀出來的內容有什麼差異\n",
    "\n",
    "* 根據範例檔案的結果：\n",
    "    1. 請問高雄市有多少地區有溫度資料？\n",
    "    2. 請取出每一個地區所記錄的第一個時間點跟溫度\n",
    "    3. 請取出第一個地區所記錄的每一個時間點跟溫度"
   ]
  },
  {
   "cell_type": "markdown",
   "metadata": {},
   "source": [
    "### 比較一下範例檔案中的「File I/O」與「xmltodict」讀出來的內容有什麼差異\n"
   ]
  },
  {
   "cell_type": "code",
   "execution_count": null,
   "metadata": {},
   "outputs": [],
   "source": [
    "import xml.dom.minidom\n",
    "\n",
    "# 存取檔案\n",
    "doc = xml.dom.minidom.parse(\"./sample.xml\")\n",
    "\n",
    "# 存取我們的資訊\n",
    "print(doc.getElementsByTagName(\"Title\")[0].firstChild.nodeValue)\n",
    "\n",
    "# 用迴圈存取我們的資訊\n",
    "chapters = doc.getElementsByTagName(\"Chapter\")\n",
    "for chapter in chapters:\n",
    "    print (chapter.getAttribute('name'), chapter.firstChild.nodeValue)"
   ]
  },
  {
   "cell_type": "code",
   "execution_count": null,
   "metadata": {},
   "outputs": [],
   "source": [
    "import xml.etree.ElementTree as ET \n",
    "\n",
    "# 存取檔案\n",
    "tree = ET.parse('./sample.xml') \n",
    "root = tree.getroot()\n",
    "\n",
    "# 存取我們的資訊\n",
    "print(root[0].text)\n",
    "\n",
    "# 用迴圈存取我們的資訊\n",
    "chapters = root[2]\n",
    "for chapter in chapters:\n",
    "    print (chapter.attrib['name'], chapter.text)"
   ]
  },
  {
   "cell_type": "code",
   "execution_count": null,
   "metadata": {},
   "outputs": [],
   "source": [
    "from urllib import request \n",
    "import sys \n",
    "# req = request.urlopen(jsonUrl) \n",
    "# encoding = req.headers.get_content_charset() \n",
    "data = req.read().decode(encoding).encode(sys.stdin.encoding, ‘replace’).decode(sys.stdin.encoding) \n",
    "print(data)"
   ]
  },
  {
   "cell_type": "code",
   "execution_count": 16,
   "metadata": {},
   "outputs": [
    {
     "output_type": "stream",
     "name": "stdout",
     "text": [
      "爬蟲馬拉松\n01 資料來源與存取\n02 靜態網頁爬蟲\n03 動態網頁爬蟲\n"
     ]
    }
   ],
   "source": [
    "import xmltodict\n",
    "\n",
    "# 存取檔案\n",
    "\n",
    "with open('D:/privite/東吳入學/Cupoy/Day003/example/sample.xml',encoding=\"utf-8\") as fd:\n",
    "    doc = dict(xmltodict.parse(fd.read()))\n",
    "\n",
    "# 存取我們的資訊\n",
    "print(doc['CUPOY']['Title'])\n",
    "\n",
    "# 用迴圈存取我們的資訊\n",
    "chapters = doc['CUPOY']['Chapters']['Chapter']\n",
    "for chapter in chapters:\n",
    "    print (chapter['@name'], chapter['#text'])\n",
    "    "
   ]
  },
  {
   "cell_type": "code",
   "execution_count": 19,
   "metadata": {},
   "outputs": [
    {
     "output_type": "stream",
     "name": "stdout",
     "text": [
      "<?xml version=\"1.0\" encoding=\"UTF-8\"?>\n<CUPOY>\n    <Title>爬蟲馬拉松</Title>\n    <Author>Wei</Author>\n    <Chapters>\n        <Chapter name=\"01\">資料來源與存取</Chapter>\n        <Chapter name=\"02\">靜態網頁爬蟲</Chapter>\n        <Chapter name=\"03\">動態網頁爬蟲</Chapter>\n    </Chapters>\n</CUPOY>\n"
     ]
    }
   ],
   "source": [
    "fh = open('D:/privite/東吳入學/Cupoy/Day003/example/sample.xml', \"r\",encoding=\"utf-8\")\n",
    "xml = fh.read()\n",
    "fh.close()\n",
    "\n",
    "print(xml)"
   ]
  },
  {
   "cell_type": "markdown",
   "metadata": {},
   "source": [
    "### 根據範例檔案的結果：\n",
    "\n",
    "1. 請問高雄市有多少地區有溫度資料？\n",
    "2. 請取出每一個地區所記錄的第一個時間點跟溫度\n",
    "3. 請取出第一個地區所記錄的每一個時間點跟溫度"
   ]
  },
  {
   "cell_type": "code",
   "execution_count": 23,
   "metadata": {},
   "outputs": [
    {
     "output_type": "stream",
     "name": "stdout",
     "text": [
      "鹽埕區\n鼓山區\n左營區\n楠梓區\n三民區\n新興區\n前金區\n苓雅區\n前鎮區\n旗津區\n小港區\n鳳山區\n林園區\n大寮區\n大樹區\n大社區\n仁武區\n鳥松區\n岡山區\n橋頭區\n燕巢區\n田寮區\n阿蓮區\n路竹區\n湖內區\n茄萣區\n永安區\n彌陀區\n梓官區\n旗山區\n美濃區\n六龜區\n甲仙區\n杉林區\n內門區\n茂林區\n桃源區\n那瑪夏區\n"
     ]
    }
   ],
   "source": [
    "# 1. 請問高雄市有多少地區有溫度資料？\n",
    "\n",
    "fh = open(\"D:/privite/東吳入學/Cupoy/Day003/example/64_72hr_CH.xml\", \"r\",encoding=\"utf-8\")\n",
    "xml = fh.read()\n",
    "fh.close()\n",
    "\n",
    "#print(xml)\n",
    "\n",
    "# 解析檔案內容\n",
    "import xmltodict\n",
    "       \n",
    "d = dict(xmltodict.parse(xml))\n",
    "\n",
    "\n",
    "# 取出 datasetDescription\n",
    "datasetDescription = d['cwbopendata']['dataset']['locations']['location']\n",
    "#print(datasetDescription)\n",
    "i=0\n",
    "for local in datasetDescription:\n",
    "    i = i + 1\n",
    "    print(local['locationName'])"
   ]
  },
  {
   "cell_type": "code",
   "execution_count": 27,
   "metadata": {},
   "outputs": [
    {
     "output_type": "stream",
     "name": "stdout",
     "text": [
      " 鹽埕區 2019-06-28T12:00:00+08:00 33 \n 鼓山區 2019-06-28T12:00:00+08:00 33 \n 左營區 2019-06-28T12:00:00+08:00 33 \n 楠梓區 2019-06-28T12:00:00+08:00 34 \n 三民區 2019-06-28T12:00:00+08:00 32 \n 新興區 2019-06-28T12:00:00+08:00 33 \n 前金區 2019-06-28T12:00:00+08:00 33 \n 苓雅區 2019-06-28T12:00:00+08:00 33 \n 前鎮區 2019-06-28T12:00:00+08:00 33 \n 旗津區 2019-06-28T12:00:00+08:00 32 \n 小港區 2019-06-28T12:00:00+08:00 33 \n 鳳山區 2019-06-28T12:00:00+08:00 34 \n 林園區 2019-06-28T12:00:00+08:00 33 \n 大寮區 2019-06-28T12:00:00+08:00 34 \n 大樹區 2019-06-28T12:00:00+08:00 34 \n 大社區 2019-06-28T12:00:00+08:00 34 \n 仁武區 2019-06-28T12:00:00+08:00 33 \n 鳥松區 2019-06-28T12:00:00+08:00 34 \n 岡山區 2019-06-28T12:00:00+08:00 34 \n 橋頭區 2019-06-28T12:00:00+08:00 35 \n 燕巢區 2019-06-28T12:00:00+08:00 34 \n 田寮區 2019-06-28T12:00:00+08:00 34 \n 阿蓮區 2019-06-28T12:00:00+08:00 34 \n 路竹區 2019-06-28T12:00:00+08:00 33 \n 湖內區 2019-06-28T12:00:00+08:00 33 \n 茄萣區 2019-06-28T12:00:00+08:00 33 \n 永安區 2019-06-28T12:00:00+08:00 32 \n 彌陀區 2019-06-28T12:00:00+08:00 32 \n 梓官區 2019-06-28T12:00:00+08:00 32 \n 旗山區 2019-06-28T12:00:00+08:00 34 \n 美濃區 2019-06-28T12:00:00+08:00 34 \n 六龜區 2019-06-28T12:00:00+08:00 34 \n 甲仙區 2019-06-28T12:00:00+08:00 33 \n 杉林區 2019-06-28T12:00:00+08:00 36 \n 內門區 2019-06-28T12:00:00+08:00 34 \n 茂林區 2019-06-28T12:00:00+08:00 34 \n 桃源區 2019-06-28T12:00:00+08:00 31 \n 那瑪夏區 2019-06-28T12:00:00+08:00 29 \n"
     ]
    }
   ],
   "source": [
    "# 2. 請取出每一個地區所記錄的第一個時間點跟溫度\n",
    "\n",
    "fh = open(\"D:/privite/東吳入學/Cupoy/Day003/example/64_72hr_CH.xml\", \"r\",encoding='utf8')\n",
    "xml = fh.read()\n",
    "fh.close()\n",
    "\n",
    "#print(xml)\n",
    "\n",
    "# 解析檔案內容\n",
    "import xmltodict\n",
    "       \n",
    "d = dict(xmltodict.parse(xml))\n",
    "\n",
    "\n",
    "# 取出 datasetDescription\n",
    "datasetDescription = d['cwbopendata']['dataset']['locations']['location']\n",
    "\n",
    "#print(datasetDescription)\n",
    "\n",
    "for i in datasetDescription:\n",
    "        for j in i['weatherElement'] :\n",
    "            if j['description'] == '溫度':\n",
    "                print(\" %s %s %s \"%(i['locationName'],\n",
    "                                    j['time'][0]['dataTime'],\n",
    "                                    j['time'][0]['elementValue']['value']))"
   ]
  },
  {
   "cell_type": "code",
   "execution_count": 28,
   "metadata": {},
   "outputs": [
    {
     "output_type": "stream",
     "name": "stdout",
     "text": [
      "2019-06-28T12:00:00+08:00 33\n2019-06-28T15:00:00+08:00 33\n2019-06-28T18:00:00+08:00 32\n2019-06-28T21:00:00+08:00 30\n2019-06-29T00:00:00+08:00 30\n2019-06-29T03:00:00+08:00 29\n2019-06-29T06:00:00+08:00 28\n2019-06-29T09:00:00+08:00 31\n2019-06-29T12:00:00+08:00 32\n2019-06-29T15:00:00+08:00 32\n2019-06-29T18:00:00+08:00 31\n2019-06-29T21:00:00+08:00 30\n2019-06-30T00:00:00+08:00 29\n2019-06-30T03:00:00+08:00 28\n2019-06-30T06:00:00+08:00 28\n2019-06-30T09:00:00+08:00 31\n2019-06-30T12:00:00+08:00 32\n2019-06-30T15:00:00+08:00 32\n2019-06-30T18:00:00+08:00 31\n2019-06-30T21:00:00+08:00 30\n2019-07-01T00:00:00+08:00 29\n2019-07-01T03:00:00+08:00 29\n2019-07-01T06:00:00+08:00 28\n2019-07-01T09:00:00+08:00 31\n"
     ]
    }
   ],
   "source": [
    "# 3. 請取出第一個地區所記錄的每一個時間點跟溫度\n",
    "\n",
    "import xmltodict\n",
    "       \n",
    "d = dict(xmltodict.parse(xml))\n",
    "\n",
    "\n",
    "# 取出 datasetDescription\n",
    "datasetDescription = d['cwbopendata']['dataset']['locations']['location']\n",
    "\n",
    "#print(datasetDescription)\n",
    "\n",
    "for i in datasetDescription:\n",
    "    for j in i['weatherElement'] :\n",
    "        if j['description'] == '溫度':\n",
    "            for z in j['time']:\n",
    "                print(z['dataTime'],z['elementValue']['value'])\n",
    "    break"
   ]
  },
  {
   "cell_type": "code",
   "execution_count": null,
   "metadata": {},
   "outputs": [],
   "source": []
  }
 ],
 "metadata": {
  "kernelspec": {
   "display_name": "Python 3",
   "language": "python",
   "name": "python3"
  },
  "language_info": {
   "codemirror_mode": {
    "name": "ipython",
    "version": 3
   },
   "file_extension": ".py",
   "mimetype": "text/x-python",
   "name": "python",
   "nbconvert_exporter": "python",
   "pygments_lexer": "ipython3",
   "version": "3.7.6-final"
  }
 },
 "nbformat": 4,
 "nbformat_minor": 2
}